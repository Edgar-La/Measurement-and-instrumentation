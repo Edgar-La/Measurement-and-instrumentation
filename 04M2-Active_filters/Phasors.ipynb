{
  "nbformat": 4,
  "nbformat_minor": 0,
  "metadata": {
    "colab": {
      "name": "Untitled3.ipynb",
      "provenance": [],
      "authorship_tag": "ABX9TyMljjDPSZUSK3s6RMzXHcA9",
      "include_colab_link": true
    },
    "kernelspec": {
      "name": "python3",
      "display_name": "Python 3"
    }
  },
  "cells": [
    {
      "cell_type": "markdown",
      "metadata": {
        "id": "view-in-github",
        "colab_type": "text"
      },
      "source": [
        "<a href=\"https://colab.research.google.com/github/Edgar-La/Measurement-and-instrumentation/blob/master/04M2-Active_filters/Phasors.ipynb\" target=\"_parent\"><img src=\"https://colab.research.google.com/assets/colab-badge.svg\" alt=\"Open In Colab\"/></a>"
      ]
    },
    {
      "cell_type": "code",
      "metadata": {
        "id": "-eJzejOlhrsS"
      },
      "source": [
        "#Importar paquetes\n",
        "import matplotlib.pyplot as plt\n",
        "import math as mt\n",
        "import cmath"
      ],
      "execution_count": 160,
      "outputs": []
    },
    {
      "cell_type": "code",
      "metadata": {
        "id": "aAILmsw8hxgR"
      },
      "source": [
        "#Variables a utilizar\n",
        "Vs_1 = 10\n",
        "Vs_2 = 10\n",
        "R_1 = 10**3\n",
        "R_2 = 10**3\n",
        "C_1 = 350 *10**-9\n",
        "C_2 = 120 *10**-12\n",
        "\n",
        "f_max_1 = 10**4\n",
        "f_max_2 = 10**7\n",
        "\n",
        "f = []\n",
        "f_2 = []\n",
        "Vo_1= []\n",
        "Vo_2= []"
      ],
      "execution_count": 161,
      "outputs": []
    },
    {
      "cell_type": "code",
      "metadata": {
        "id": "Nt5oNsdwh5FZ"
      },
      "source": [
        "for t in range(1, f_max_1 + 1, 1):\n",
        "\tf.append(t)\n",
        "\n",
        "for t in range(len(f)):\n",
        "\tZ = complex(0,2*mt.pi*f[t]*R_1*C_1)\n",
        "\tVo_ = Vs/(1 + Z)\n",
        "\tVo_ = mt.sqrt( (Vo_.real)**2 + (Vo_.imag)**2)\t\t#Paso a forma polar\n",
        "\tVo_1.append(Vo_)\n",
        " \n",
        "f_corte_1 = (1/ (R_1*C_1)) * (1/(2*mt.pi))\n",
        "Porciento_1 = 0.7*Vs_1"
      ],
      "execution_count": 162,
      "outputs": []
    },
    {
      "cell_type": "code",
      "metadata": {
        "id": "EdYHk6ryiEzV",
        "outputId": "6d3321aa-9b7f-4a67-843f-1697778506d4",
        "colab": {
          "base_uri": "https://localhost:8080/",
          "height": 299
        }
      },
      "source": [
        "plt.title('Filtro pasa-bajas')\n",
        "plt.xlabel('f')\n",
        "plt.ylabel('Vo')\n",
        "plt.axvline(f_corte_1, color='red', linestyle = ':', linewidth = 2, label = 'f de corte')\n",
        "plt.axhline(Porciento_1, color='red', linestyle = ':', linewidth = 2, label = 'f de corte')\n",
        "#plt.axvline(194.84, color='red', linestyle = ':', linewidth = 2, label = 'f de corte')\n",
        "plt.xscale('log')\n",
        "plt.plot(f, Vo_1,'-')\n",
        "plt.show()"
      ],
      "execution_count": 163,
      "outputs": [
        {
          "output_type": "display_data",
          "data": {
            "image/png": "[encoded data removed]",
            "text/plain": [
              "<Figure size 432x288 with 1 Axes>"
            ]
          },
          "metadata": {
            "tags": [],
            "needs_background": "light"
          }
        }
      ]
    },
    {
      "cell_type": "code",
      "metadata": {
        "id": "vTb-DPv8iQZg"
      },
      "source": [
        "for t in range(1, f_max_2 + 1, 10):\n",
        "\tf_2.append(t)\n",
        "\n",
        "for t in range(len(f_2)):\n",
        "\tZ = complex(0,2*mt.pi*f_2[t]*R_2*C_2)\n",
        "\tVo_ = Vs_2*(Z/(1 + Z))\n",
        "\tVo_polar_ = mt.sqrt((Vo_.real)**2 + (Vo_.imag)**2)\n",
        "\tVo_2.append(Vo_polar_)\n",
        "f_corte_2 = (1/(R_2*C_2))*(1/(2*mt.pi))\n",
        "\n",
        "Porciento_2 = 0.7*Vs_2"
      ],
      "execution_count": 164,
      "outputs": []
    },
    {
      "cell_type": "code",
      "metadata": {
        "id": "n6EieY1Fiy4O",
        "outputId": "e1266f6c-9c2e-4f5e-9525-daedb73e0cd4",
        "colab": {
          "base_uri": "https://localhost:8080/",
          "height": 299
        }
      },
      "source": [
        "plt.title('Filtro pasa-altas')\n",
        "plt.xlabel('f')\n",
        "plt.ylabel('Vo')\n",
        "\n",
        "plt.axvline(f_corte_2, color='red', linestyle = ':', linewidth = 2, label = 'f de corte')\n",
        "plt.axhline(Porciento_2, color='red', linestyle = ':', linewidth = 2, label = 'f de corte')\n",
        "plt.xscale('log')\n",
        "plt.plot(f_2, Vo_2,'-')\n",
        "\n",
        "plt.show()"
      ],
      "execution_count": 165,
      "outputs": [
        {
          "output_type": "display_data",
          "data": {
            "image/png": "[encoded data removed]",
            "text/plain": [
              "<Figure size 432x288 with 1 Axes>"
            ]
          },
          "metadata": {
            "tags": [],
            "needs_background": "light"
          }
        }
      ]
    }
  ]
}