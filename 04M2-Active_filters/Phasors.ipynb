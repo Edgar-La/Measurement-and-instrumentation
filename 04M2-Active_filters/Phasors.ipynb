{
  "nbformat": 4,
  "nbformat_minor": 0,
  "metadata": {
    "colab": {
      "name": "Untitled3.ipynb",
      "provenance": [],
      "authorship_tag": "ABX9TyONUgmbkQqm+uvzEhC0LhWV",
      "include_colab_link": true
    },
    "kernelspec": {
      "name": "python3",
      "display_name": "Python 3"
    }
  },
  "cells": [
    {
      "cell_type": "markdown",
      "metadata": {
        "id": "view-in-github",
        "colab_type": "text"
      },
      "source": [
        "<a href=\"https://colab.research.google.com/github/Edgar-La/Measurement-and-instrumentation/blob/master/04M2-Active_filters/Phasors.ipynb\" target=\"_parent\"><img src=\"https://colab.research.google.com/assets/colab-badge.svg\" alt=\"Open In Colab\"/></a>"
      ]
    },
    {
      "cell_type": "code",
      "metadata": {
        "id": "-eJzejOlhrsS"
      },
      "source": [
        "#Importar paquetes\n",
        "import matplotlib.pyplot as plt\n",
        "import math as mt\n",
        "import cmath"
      ],
      "execution_count": 20,
      "outputs": []
    },
    {
      "cell_type": "code",
      "metadata": {
        "id": "aAILmsw8hxgR"
      },
      "source": [
        "#Variables a utilizar\n",
        "Vs = 10\n",
        "R = 1000\n",
        "C = 350 *(10**(-9))\n",
        "pi = 3.141592\n",
        "f_max = 10**4\n",
        "\n",
        "f = []\n",
        "Vo_1= []\n",
        "Vo_2= []"
      ],
      "execution_count": 27,
      "outputs": []
    },
    {
      "cell_type": "code",
      "metadata": {
        "id": "Nt5oNsdwh5FZ"
      },
      "source": [
        "for t in range(1,f_max+1,1):\n",
        "\tf.append(t)\n",
        "\n",
        "for t in range(len(f)):\n",
        "\tZ = complex(0,2*pi*f[t]*R*C)\n",
        "\tVo_ = Vs/(1 + Z)\n",
        "\t#Vo_polar_ = mt.sqrt((Vo_.real)**2 + (Vo_.imag)**2)\n",
        "\tVo_1.append(Vo_)"
      ],
      "execution_count": 28,
      "outputs": []
    },
    {
      "cell_type": "code",
      "metadata": {
        "id": "EdYHk6ryiEzV",
        "outputId": "e672267b-673c-413b-93c3-1aa2367382ea",
        "colab": {
          "base_uri": "https://localhost:8080/",
          "height": 333
        }
      },
      "source": [
        "plt.title('Filtro pasa-bajas')\n",
        "plt.xlabel('f')\n",
        "plt.ylabel('Vo')\n",
        "#plt.hline()\n",
        "#plt.axhline(7.071, color='red', linestyle = ':', linewidth = 2, label = 'f de corte')\n",
        "plt.xscale('log')\n",
        "plt.plot(f, Vo_1,'-')\n",
        "plt.show()"
      ],
      "execution_count": 29,
      "outputs": [
        {
          "output_type": "stream",
          "text": [
            "/usr/local/lib/python3.6/dist-packages/numpy/core/_asarray.py:85: ComplexWarning: Casting complex values to real discards the imaginary part\n",
            "  return array(a, dtype, copy=False, order=order)\n"
          ],
          "name": "stderr"
        },
        {
          "output_type": "display_data",
          "data": {
            "image/png": "[encoded data removed]",
            "text/plain": [
              "<Figure size 432x288 with 1 Axes>"
            ]
          },
          "metadata": {
            "tags": [],
            "needs_background": "light"
          }
        }
      ]
    },
    {
      "cell_type": "code",
      "metadata": {
        "id": "vTb-DPv8iQZg"
      },
      "source": [
        "for t in range(len(f)):\n",
        "\tZ = complex(0,2*pi*f[t]*R*C)\n",
        "\tVo_ = Vs*(Z/(1 + Z))\n",
        "\t#Vo_polar_ = mt.sqrt((Vo_.real)**2 + (Vo_.imag)**2)\n",
        "\tVo_2.append(Vo_)"
      ],
      "execution_count": 30,
      "outputs": []
    },
    {
      "cell_type": "code",
      "metadata": {
        "id": "n6EieY1Fiy4O",
        "outputId": "acb57632-913b-4973-89a7-87fc517b1105",
        "colab": {
          "base_uri": "https://localhost:8080/",
          "height": 333
        }
      },
      "source": [
        "plt.title('Filtro pasa-altas')\n",
        "plt.xlabel('f')\n",
        "plt.ylabel('Vo')\n",
        "#plt.hline()\n",
        "#plt.axhline(7.071, color='red', linestyle = ':', linewidth = 2, label = 'f de corte')\n",
        "plt.xscale('log')\n",
        "plt.plot(f, Vo_2,'-')\n",
        "plt.show()"
      ],
      "execution_count": 31,
      "outputs": [
        {
          "output_type": "stream",
          "text": [
            "/usr/local/lib/python3.6/dist-packages/numpy/core/_asarray.py:85: ComplexWarning: Casting complex values to real discards the imaginary part\n",
            "  return array(a, dtype, copy=False, order=order)\n"
          ],
          "name": "stderr"
        },
        {
          "output_type": "display_data",
          "data": {
            "image/png": "[encoded data removed]",
            "text/plain": [
              "<Figure size 432x288 with 1 Axes>"
            ]
          },
          "metadata": {
            "tags": [],
            "needs_background": "light"
          }
        }
      ]
    }
  ]
}